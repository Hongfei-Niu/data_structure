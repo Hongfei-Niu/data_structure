{
 "cells": [
  {
   "cell_type": "markdown",
   "source": [
    "## Difference of Tuple and List\n",
    "<span id=\"diff1\">1. The elements in tuple must be the consistent.</span>\n",
    "<span id=\"diff2\">2. The length of a tuple is fixed.</span>\n",
    "\n",
    "\n",
    "* **Tuple**\n",
    "The complexity is O(1) if get a[2]\n",
    "\n",
    "for example:\n",
    "    a = (1, 2, 3, 4, 5, 6, 7) on a 32-bit machine\n",
    "\n",
    "the position of start of a is 100, if the 2 is 104, 3 is 108 ...\n",
    "(A integer is 4 byte on computer.)\n",
    "\n",
    "* **List**\n",
    "The list contains the address of each element, which could solve consistent elements' problem.\n",
    "\n",
    "for example:\n",
    "    a = [1, 2, 3, 4, 5, 6, 7]\n",
    "    Actually, in machine,\n",
    "    a = [200, 305, 408, ...], 200, 305 are addresses of first, second element.\n",
    "\n",
    "for [2nd feature](#diff2)"
   ],
   "metadata": {
    "collapsed": false
   }
  },
  {
   "cell_type": "markdown",
   "source": [
    "## Insert and Remove\n",
    "\n",
    "The complexity of both are O(n)."
   ],
   "metadata": {
    "collapsed": false,
    "pycharm": {
     "name": "#%% md\n"
    }
   }
  }
 ],
 "metadata": {
  "kernelspec": {
   "display_name": "Python 3",
   "language": "python",
   "name": "python3"
  },
  "language_info": {
   "codemirror_mode": {
    "name": "ipython",
    "version": 2
   },
   "file_extension": ".py",
   "mimetype": "text/x-python",
   "name": "python",
   "nbconvert_exporter": "python",
   "pygments_lexer": "ipython2",
   "version": "2.7.6"
  }
 },
 "nbformat": 4,
 "nbformat_minor": 0
}