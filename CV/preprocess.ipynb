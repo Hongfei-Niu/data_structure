{
 "cells": [
  {
   "cell_type": "markdown",
   "source": [
    "# Basic Image Process"
   ],
   "metadata": {
    "collapsed": false
   }
  },
  {
   "cell_type": "markdown",
   "source": [
    "## Relevant Principle"
   ],
   "metadata": {
    "collapsed": false
   }
  },
  {
   "cell_type": "markdown",
   "source": [
    "### noise reduction\n",
    "\n",
    "加性噪声和乘性噪声\n",
    "\n",
    "按噪声和信号之间的关系，图像噪声可分为加性噪声和乘性噪声。\n",
    "* 加性噪声: 信号和噪声是互相独立的。信号为S(t)，噪声为n(t)，如果混合叠加波形是S(t)+n(t)的形式，则称其为加性噪声。\n",
    "* 叠加波形为S(t)［1+n(t)］的形式，则称其为乘性噪声。乘性噪声则与信号强度有关，往往随图像信号的变化而变化，如飞点扫描图像中的嗓声、电视扫描光栅、胶片颗粒造成等。\n",
    "\n",
    "平稳噪声非平稳噪声\n",
    "\n",
    "按照统计特性，图像噪声可分为平稳噪声和非平稳噪声。\n",
    "* 统计特性不随时间变化的噪声称为平稳噪声。\n",
    "* 统计特性随时间变化的噪声称为非平稳噪声。\n",
    "\n",
    "从噪声的概率分布情况来看，可分为高斯噪声、瑞利噪声、伽马噪声、指数噪声和均匀噪声。\n",
    "* 高斯噪声\n",
    "https://blog.csdn.net/lidb86/article/details/83108705\n",
    "* 瑞利噪声\n",
    "* 伽马(爱尔兰)噪声\n",
    "* 指数分布噪声\n",
    "* 指数分布噪声\n",
    "* 脉冲噪声（椒盐噪声）\n",
    "\n",
    "图像去噪算法可以分为以下几类：\n",
    "* 空间域滤波: 邻域平均法、中值滤波、低通滤波等。\n",
    "* 变换域滤波: 傅立叶变换、沃尔什-哈达玛变换、余弦变换、K-L变换以及小波变换等。\n",
    "* 偏微分方程:\n",
    "* 变分法: 基于变分法的思想，确定图像的能量函数，通过对能量函数的最小化工作，使得图像达到平滑状态，现在得到广泛应用的全变分TV模型就是这一类。\n",
    "* 形态学噪声滤除器: 将开与闭结合可用来滤除噪声，首先对有噪声图像进行开运算，可选择结构要素矩阵比噪声尺寸大，因而开运算的结果是将背景噪声去除；再对前一步得到的图像进行闭运算，将图像上的噪声去掉。\n",
    "\n",
    "![image](./Image/filter.png)"
   ],
   "metadata": {
    "collapsed": false
   }
  },
  {
   "cell_type": "code",
   "execution_count": null,
   "outputs": [],
   "source": [
    "import numpy as np\n",
    "import cv2\n",
    "import matplotlib.pyplot as plt\n",
    "########     四个不同的滤波器    #########\n",
    "img = cv2.imread('cat.jpg')\n",
    "\n",
    "# 均值滤波\n",
    "img_mean = cv2.blur(img, (5,5))\n",
    "\n",
    "# 高斯滤波\n",
    "img_Guassian = cv2.GaussianBlur(img,(5,5),0)\n",
    "\n",
    "# 中值滤波\n",
    "img_median = cv2.medianBlur(img, 5)\n",
    "\n",
    "# 双边滤波\n",
    "img_bilater = cv2.bilateralFilter(img,9,75,75)\n",
    "\n",
    "# 展示不同的图片\n",
    "titles = ['srcImg','mean', 'Gaussian', 'median', 'bilateral']\n",
    "imgs = [img, img_mean, img_Guassian, img_median, img_bilater]\n",
    "\n",
    "for i in range(5):\n",
    "    plt.subplot(2,3,i+1)#注意，这和matlab中类似，没有0，数组下标从1开始\n",
    "    plt.imshow(imgs[i])\n",
    "    plt.title(titles[i])\n",
    "plt.show()"
   ],
   "metadata": {
    "collapsed": false,
    "pycharm": {
     "name": "#%%\n"
    }
   }
  },
  {
   "cell_type": "code",
   "execution_count": null,
   "metadata": {
    "collapsed": true
   },
   "outputs": [],
   "source": []
  }
 ],
 "metadata": {
  "kernelspec": {
   "display_name": "Python 3",
   "language": "python",
   "name": "python3"
  },
  "language_info": {
   "codemirror_mode": {
    "name": "ipython",
    "version": 2
   },
   "file_extension": ".py",
   "mimetype": "text/x-python",
   "name": "python",
   "nbconvert_exporter": "python",
   "pygments_lexer": "ipython2",
   "version": "2.7.6"
  }
 },
 "nbformat": 4,
 "nbformat_minor": 0
}