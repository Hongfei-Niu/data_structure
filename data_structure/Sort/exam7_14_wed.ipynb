{
 "cells": [
  {
   "cell_type": "markdown",
   "metadata": {
    "collapsed": false
   },
   "source": [
    "# Review Test 2022/07/13 Wednesday"
   ]
  },
  {
   "cell_type": "markdown",
   "metadata": {
    "collapsed": false
   },
   "source": [
    "## LowB"
   ]
  },
  {
   "cell_type": "code",
   "execution_count": 7,
   "metadata": {
    "collapsed": true
   },
   "outputs": [],
   "source": [
    "def bubble_sort_test(li):\n",
    "    for i in range(len(li) - 1):\n",
    "        exchange = False\n",
    "        for j in range(len(li) - i - 1):\n",
    "            if li[j] > li[j + 1]:\n",
    "                li[j], li[j + 1] = li[j + 1], li[j]\n",
    "                exchange = True\n",
    "        if not exchange:\n",
    "            return li\n",
    "\n",
    "\n",
    "def insert_sort(li):\n",
    "    for i in range(1, len(li)):\n",
    "        tmp = li[i]\n",
    "        j = i - 1\n",
    "        while j >= 0 and tmp < li[j]:\n",
    "            li[j + 1] = li[j]\n",
    "            j -= 1\n",
    "        li[j + 1] = tmp\n",
    "    return li\n",
    "\n",
    "\n",
    "def select_sort(li):\n",
    "    for i in range(len(li) - 1):\n",
    "        min_loc = i\n",
    "        for j in range(i, len(li)):\n",
    "            if li[min_loc] > li[j]:\n",
    "                min_loc = j\n",
    "        li[i], li[min_loc] = li[min_loc], li[i]\n",
    "    return li\n",
    "\n"
   ]
  },
  {
   "cell_type": "code",
   "execution_count": 8,
   "metadata": {
    "collapsed": false,
    "pycharm": {
     "name": "#%%\n"
    }
   },
   "outputs": [
    {
     "name": "stdout",
     "output_type": "stream",
     "text": [
      "[0, 1, 2, 3, 4, 5, 6, 7, 8, 9]\n"
     ]
    }
   ],
   "source": [
    "if __name__ == \"__main__\":\n",
    "    import random\n",
    "\n",
    "    li = [i for i in range(10)]\n",
    "    random.shuffle(li)\n",
    "\n",
    "    li = insert_sort(li)\n",
    "    print(li)"
   ]
  },
  {
   "cell_type": "markdown",
   "metadata": {
    "collapsed": false
   },
   "source": [
    "## NewB"
   ]
  },
  {
   "cell_type": "code",
   "execution_count": 19,
   "metadata": {
    "collapsed": false,
    "pycharm": {
     "name": "#%%\n"
    }
   },
   "outputs": [
    {
     "name": "stdout",
     "output_type": "stream",
     "text": [
      "[6, 2, 4, 5, 3, 0, 9, 7, 8, 1]\n",
      "[6, 2, 4, 5, 3, 0, 9, 7, 8, 1]\n",
      "[1, 2, 4, 5, 3, 0, 6, 7, 8, 9]\n",
      "[0, 1, 4, 5, 3, 2, 6, 7, 8, 9]\n",
      "[0, 1, 2, 3, 4, 5, 6, 7, 8, 9]\n",
      "[0, 1, 2, 3, 4, 5, 6, 7, 8, 9]\n",
      "[0, 1, 2, 3, 4, 5, 6, 7, 8, 9]\n",
      "[0, 1, 2, 3, 4, 5, 6, 7, 8, 9]\n"
     ]
    }
   ],
   "source": [
    "# def partition(li, left, right):\n",
    "#     tmp = li[left]\n",
    "#\n",
    "#     while left < right:\n",
    "#         while left < right and li[right] >= tmp:\n",
    "#             right -= 1\n",
    "#         li[left] = li[right]\n",
    "#\n",
    "#         while left < right and li[left] <= tmp:\n",
    "#             left += 1\n",
    "#         li[right] = li[left]\n",
    "#     li[left] = tmp\n",
    "#     return left\n",
    "\n",
    "\n",
    "def quick_sort(li, left, right):\n",
    "    if left < right:\n",
    "        print(li)\n",
    "        mid = partition(li, left, right)\n",
    "        quick_sort(li, left, mid-1)\n",
    "        quick_sort(li, mid+1, right)\n",
    "\n",
    "\n",
    "def partition(li, left, right):\n",
    "    tmp = li[left]\n",
    "\n",
    "    while left < right:\n",
    "        while left < right and li[right] >= tmp:\n",
    "            right -= 1\n",
    "\n",
    "        li[left] = li[right]\n",
    "\n",
    "        while left < right and li[left] <= tmp:\n",
    "            left += 1\n",
    "        li[right] = li[left]\n",
    "\n",
    "    li[right] = tmp\n",
    "    return right\n",
    "\n",
    "\n",
    "if __name__ == \"__main__\":\n",
    "    import random\n",
    "\n",
    "    li = [i for i in range(10)]\n",
    "    random.shuffle(li)\n",
    "    print(li)\n",
    "\n",
    "    quick_sort(li, 0, 9)\n",
    "    print(li)"
   ]
  },
  {
   "cell_type": "code",
   "execution_count": 15,
   "metadata": {
    "collapsed": false,
    "pycharm": {
     "name": "#%%\n"
    }
   },
   "outputs": [],
   "source": []
  },
  {
   "cell_type": "code",
   "execution_count": 15,
   "metadata": {
    "collapsed": false,
    "pycharm": {
     "name": "#%%\n"
    }
   },
   "outputs": [],
   "source": []
  },
  {
   "cell_type": "code",
   "execution_count": 15,
   "metadata": {
    "collapsed": false,
    "pycharm": {
     "name": "#%%\n"
    }
   },
   "outputs": [],
   "source": []
  },
  {
   "cell_type": "code",
   "execution_count": 15,
   "metadata": {
    "collapsed": false,
    "pycharm": {
     "name": "#%%\n"
    }
   },
   "outputs": [],
   "source": []
  },
  {
   "cell_type": "code",
   "execution_count": null,
   "metadata": {
    "collapsed": false,
    "pycharm": {
     "name": "#%%\n"
    }
   },
   "outputs": [],
   "source": []
  }
 ],
 "metadata": {
  "kernelspec": {
   "display_name": "Python 3",
   "language": "python",
   "name": "python3"
  },
  "language_info": {
   "codemirror_mode": {
    "name": "ipython",
    "version": 2
   },
   "file_extension": ".py",
   "mimetype": "text/x-python",
   "name": "python",
   "nbconvert_exporter": "python",
   "pygments_lexer": "ipython2",
   "version": "3.9.2"
  },
  "vscode": {
   "interpreter": {
    "hash": "916dbcbb3f70747c44a77c7bcd40155683ae19c65e1c03b4aa3499c5328201f1"
   }
  }
 },
 "nbformat": 4,
 "nbformat_minor": 0
}
