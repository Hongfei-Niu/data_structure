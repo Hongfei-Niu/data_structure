{
 "cells": [
  {
   "cell_type": "markdown",
   "metadata": {},
   "source": [
    "# Tree"
   ]
  },
  {
   "cell_type": "code",
   "execution_count": 3,
   "metadata": {},
   "outputs": [],
   "source": [
    "class Node:\n",
    "    def __init__(self, name, type=\"dir\"):\n",
    "        self.name = name\n",
    "        self.type = type  # \"dir\" or \"file\"\n",
    "        self.children = []\n",
    "        self.parent = None\n",
    "\n",
    "class FileSystemTree:\n",
    "    def __init__(self):\n",
    "        self.root = Node(\"/\")\n",
    "        self.now = self.root\n",
    "\n",
    "    def mkdir(self, name):\n",
    "        if name[-1] != \"/\":\n",
    "            name += \"/\"\n",
    "\n",
    "        node = Node(name)\n",
    "        self.now.children.append(node)\n",
    "        node.parent = self.now\n",
    "\n",
    "    def ls(self):\n",
    "        return self.now.children\n",
    "\n",
    "    def cd(self, name):\n",
    "        if name[-1] != \"/\":\n",
    "            name += \"/\"\n",
    "        if name == \"../\":\n",
    "            self.now = self.now.parent\n",
    "            return\n",
    "\n",
    "        for child in self.now.children:\n",
    "            if child.name == name:\n",
    "                self.now = child\n",
    "                return\n",
    "        raise ValueError(\"Invalid Dir\")\n",
    "\n",
    "n = Node(\"hello\")\n",
    "n2 = Node(\"world\")\n",
    "n.children.append(n2)\n",
    "n2.parent = n"
   ]
  },
  {
   "cell_type": "markdown",
   "metadata": {},
   "source": [
    "## Bi-Tree\n",
    "\n",
    "* 经典题：根据两个不同的遍历确定一个树"
   ]
  },
  {
   "cell_type": "code",
   "execution_count": 6,
   "metadata": {
    "pycharm": {
     "name": "#%%\n"
    }
   },
   "outputs": [],
   "source": [
    "class BiTreeNode:\n",
    "    def __init__(self, data):\n",
    "        self.data = data\n",
    "        self.lchild = None\n",
    "        self.rchild = None  # right child\n",
    "\n",
    "def pre_order(root):\n",
    "    if root:\n",
    "        print(root.data, end=\",\")\n",
    "        pre_order(root.lchild)\n",
    "        pre_order(root.rchild)\n",
    "\n",
    "def in_order(root):\n",
    "    if root:\n",
    "        in_order(root.lchild)\n",
    "        print(root.data, end=\",\")\n",
    "        in_order(root.rchild)\n",
    "\n",
    "def post_order(root):\n",
    "    if root:\n",
    "        post_order(root.lchild)\n",
    "        post_order(root.rchild)\n",
    "        print(root.data, end=\",\")\n",
    "\n",
    "def __remove_node_1(self, node):\n",
    "    # case 1: if node is leaf\n",
    "    if not node.parent:\n",
    "        self.root = None\n",
    "    if node == node.parent.lchild:  # node is the lchild of the father\n",
    "        node.parent.lchild = None\n",
    "    else:\n",
    "        node.parent.rchild = None\n",
    "\n",
    "def __remove_node21(self, node):\n",
    "    # case 2: if node only have left child\n",
    "    if not node.parent:\n",
    "        self.root = None\n",
    "        node.lchild.parent = None\n",
    "    if node == node.parent.lchild:\n",
    "        node.parent.lchild = node.lchild\n",
    "        node.lchild.parent = node.parent\n",
    "    else:\n",
    "        node.parent.rchild = node.lchild\n",
    "        node.lchild.parent = node.parent\n",
    "\n",
    "def __remove_node_22(self, node):\n",
    "    # case 2.2: node only has rchild\n",
    "    if not node.parent:\n",
    "        self.root = node.rchild\n",
    "    elif node == node.parent.lchild:\n",
    "        node.parent.lchild = node.rchild\n",
    "        node.rchild.parent = node.parent\n",
    "    else:\n",
    "        node.parent.rchild = node.rchild\n",
    "        node.rchild.parent = node.parent\n",
    "\n",
    "def delete(self, val):\n",
    "    if self.root:  # not empty tree\n",
    "        node = self.query_no_rec(val)\n",
    "        if not node:  # not exist\n",
    "            return False\n",
    "        if not node.lchild and not node.rchild:  # the leave node\n",
    "            self.__remove_node_1(node)\n",
    "        elif not node.rchild:  # 2.1 only left child\n",
    "            self.__remove_node21(node)\n",
    "        elif not node.lchild:  # 2.2 only right child\n",
    "            self.__remove_node_22(node)\n",
    "        else:  # has both child\n",
    "            min_node = node.rchild\n",
    "            while min_node.lchild:\n",
    "                min_node = min_node.lchild\n",
    "            node.data = min_node.data\n",
    "            # delete min_node\n",
    "            if min_node.rchild:\n",
    "                self.__remove_node_22(min_node)\n",
    "            else:\n",
    "                self.__remove_node_1(min_node)\n",
    "\n",
    "\n",
    "def level_order(root):\n",
    "    from collections import deque\n",
    "\n",
    "    queue = deque\n",
    "    queue.append(root)\n",
    "    ret = []\n",
    "    while len(queue) > 0:  # as long as the queue is not empty\n",
    "        node = queue.popleft()  # pop out the root\n",
    "        ret.append(node)\n",
    "        print(node.data, end=\",\")\n",
    "\n",
    "        # get in the childs of the root\n",
    "        if node.lchild:\n",
    "            queue.append(node.lchild)\n",
    "\n",
    "        if node.rchild:\n",
    "            queue.append(node.rchild)\n"
   ]
  },
  {
   "cell_type": "markdown",
   "metadata": {},
   "source": [
    "## Binary Search Tree(BST)\n",
    "\n",
    "x is a node of a Binary Tree, it follows Binary Search Tree when:\n",
    "* y.key <= x.key, if y is any node on left child tree of x.\n",
    "* y.key >= x.key, if y is any node on right child tree of x.\n",
    "\n",
    "it follows operations:\n",
    "* search\n",
    "* insert\n",
    "* remove"
   ]
  },
  {
   "cell_type": "code",
   "execution_count": 11,
   "metadata": {
    "pycharm": {
     "name": "#%%\n"
    }
   },
   "outputs": [
    {
     "name": "stdout",
     "output_type": "stream",
     "text": [
      "4,2,1,3,6,5,7,9,8,\n",
      "\n",
      "\n",
      "1,2,3,4,5,6,7,8,9,"
     ]
    }
   ],
   "source": [
    "class BST:\n",
    "    def __init__(self, li):\n",
    "        self.root = None\n",
    "        if li:\n",
    "            for val in li:\n",
    "                self.insert_no_rec(val)\n",
    "\n",
    "\n",
    "    def insert(self, node, val):\n",
    "        if not node:\n",
    "            node = BiTreeNode(val)\n",
    "        elif val < node.data:\n",
    "            node.lchild = self.insert(node.lchild, val)\n",
    "            node.lchild.parent = node\n",
    "\n",
    "        elif val > node.data:\n",
    "            node.rchild = self.insert(node.rchild, val)\n",
    "            node.rchild.parent = node\n",
    "        return node\n",
    "\n",
    "    def insert_no_rec(self, val):\n",
    "        p = self.root\n",
    "        if not p:\n",
    "            self.root = BiTreeNode(val)\n",
    "            p = self.root\n",
    "\n",
    "        while True:\n",
    "            if val < p.data:\n",
    "                if p.lchild:\n",
    "                    p = p.lchild\n",
    "                else:\n",
    "                    p.lchild = BiTreeNode(val)\n",
    "                    p.lchild.parent = p\n",
    "                    return\n",
    "\n",
    "            elif val > p.data:\n",
    "                if p.rchild:\n",
    "                    p = p.rchild\n",
    "                else:\n",
    "                    p.rchild = BiTreeNode(val)\n",
    "                    p.rchild.parent = p\n",
    "                    return\n",
    "\n",
    "            else:\n",
    "                return\n",
    "\n",
    "    def query(self, node, val):\n",
    "        if not node:\n",
    "            return None\n",
    "        if node.data < val:\n",
    "            return self.query(node.rchild, val)\n",
    "        if node.data > val:\n",
    "            return self.query(node.lchild, val)\n",
    "\n",
    "        else:\n",
    "            return node\n",
    "\n",
    "    # def query_no_rec(self, val):\n",
    "    #     p = self.root\n",
    "    #     while p:\n",
    "            \n",
    "\n",
    "tree = BST([4, 6, 7, 9, 2, 1, 3, 5, 8])\n",
    "pre_order(tree.root)\n",
    "print(\"\\n\\n\")\n",
    "in_order(tree.root)"
   ]
  },
  {
   "cell_type": "code",
   "execution_count": 23,
   "metadata": {},
   "outputs": [
    {
     "data": {
      "text/plain": [
       "8"
      ]
     },
     "execution_count": 23,
     "metadata": {},
     "output_type": "execute_result"
    }
   ],
   "source": [
    "tree.root.rchild.rchild.rchild.lchild.data"
   ]
  },
  {
   "cell_type": "markdown",
   "metadata": {},
   "source": [
    "AVL Tree"
   ]
  },
  {
   "cell_type": "code",
   "execution_count": null,
   "metadata": {
    "pycharm": {
     "name": "#%%\n"
    }
   },
   "outputs": [],
   "source": [
    "class AVLNode(BiTreeNode):\n",
    "    def __init__(self, data):\n",
    "        BiTreeNode.__init__(self, data)\n",
    "        self.bf = 0\n",
    "\n",
    "class AVLTree(BST):\n",
    "    def __init__(self, li=None):\n",
    "        BST.__init__(self, li)\n",
    "\n",
    "    def rotate_left(self, p, c):\n",
    "        s2 = c.lchild\n",
    "        p.rchild = s2\n",
    "\n",
    "        if s2:\n",
    "            s2.parent = p\n",
    "\n",
    "        c.lchild = p\n",
    "        p.parent = c\n",
    "\n",
    "        p.bf = 0\n",
    "        c.bf = 0"
   ]
  }
 ],
 "metadata": {
  "kernelspec": {
   "display_name": "Python 3 (ipykernel)",
   "language": "python",
   "name": "python3"
  },
  "language_info": {
   "codemirror_mode": {
    "name": "ipython",
    "version": 3
   },
   "file_extension": ".py",
   "mimetype": "text/x-python",
   "name": "python",
   "nbconvert_exporter": "python",
   "pygments_lexer": "ipython3",
   "version": "3.7.11"
  }
 },
 "nbformat": 4,
 "nbformat_minor": 1
}