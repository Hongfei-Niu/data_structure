{
 "cells": [
  {
   "cell_type": "markdown",
   "source": [
    "# Queue\n",
    "\n",
    "***Queue is a set of data, inserting at one side and deleting at other side.***\n",
    "\n",
    "First-in, last out\n",
    "* Rear: end of the queue, inserting the element.\n",
    "* Front: start of the queue, removing the element.\n",
    "\n",
    "## circular queue\n",
    "* when rear = maxsize + 1, next step is 0\n",
    "* when the front move one step: front = (front + 1) % MaxSize\n",
    "* when the rear move one step: rear = (rear + 1) % MaxSize\n",
    "* when the queue is empty: rear = front\n",
    "* when the rear is full, (rear + 1) % MaxSize = front"
   ],
   "metadata": {
    "collapsed": false
   }
  },
  {
   "cell_type": "code",
   "execution_count": null,
   "metadata": {
    "collapsed": true
   },
   "outputs": [],
   "source": [
    "class Queue:\n",
    "    def __init__(self, size=100):\n",
    "        self.queue = [0 for _ in range(size)]\n",
    "        self.size = size\n",
    "        self.rear = 0  # last cursor\n",
    "        self.front = 0  # first cursor\n",
    "\n",
    "    def push(self, element):\n",
    "        if self.is_filled():\n",
    "            raise IndexError(\"Queue is filled!\")\n",
    "        self.rear = (self.rear + 1) % self.size\n",
    "        self.queue[self.rear] = element\n",
    "\n",
    "    def pop(self):\n",
    "        if self.is_empty():\n",
    "           raise IndexError(\"Queue is empty!\")\n",
    "        self.front = (self.front + 1) % self.size\n",
    "        return self.queue[self.front]\n",
    "\n",
    "    def is_empty(self):\n",
    "        return self.rear == self.front\n",
    "\n",
    "    def is_filled(self):\n",
    "        return (self.rear + 1) % self.size == self.front"
   ]
  },
  {
   "cell_type": "markdown",
   "source": [
    "## Doubled-Edged Queue\n",
    "***Both side accept in and out***"
   ],
   "metadata": {
    "collapsed": false
   }
  },
  {
   "cell_type": "code",
   "execution_count": null,
   "outputs": [],
   "source": [
    "from collections import deque\n",
    "\n",
    "q = deque([1,2,3], 5)\n",
    "q.append(1)\n",
    "print(q.popleft())\n",
    "\n",
    "# for doubled-edged queue\n",
    "q.appendleft(1)  # in in front\n",
    "q.pop()  # out in rear\n",
    "\n",
    "\n",
    "def tail(n):\n",
    "    \"\"\"\n",
    "    return the last five elements in txt file\n",
    "    \"\"\"\n",
    "    with open(\"test.txt\", 'r') as f:\n",
    "        q = deque(f, n)\n",
    "        return q\n",
    "\n",
    "for line in tail(5):\n",
    "    print(line, end=\" \")"
   ],
   "metadata": {
    "collapsed": false,
    "pycharm": {
     "name": "#%%\n"
    }
   }
  },
  {
   "cell_type": "markdown",
   "source": [],
   "metadata": {
    "collapsed": false
   }
  }
 ],
 "metadata": {
  "kernelspec": {
   "display_name": "Python 3",
   "language": "python",
   "name": "python3"
  },
  "language_info": {
   "codemirror_mode": {
    "name": "ipython",
    "version": 2
   },
   "file_extension": ".py",
   "mimetype": "text/x-python",
   "name": "python",
   "nbconvert_exporter": "python",
   "pygments_lexer": "ipython2",
   "version": "2.7.6"
  }
 },
 "nbformat": 4,
 "nbformat_minor": 0
}