{
 "cells": [
  {
   "cell_type": "markdown",
   "metadata": {},
   "source": [
    "# Maze Problem"
<<<<<<< HEAD
   ]
  },
  {
   "cell_type": "code",
   "execution_count": 7,
   "metadata": {},
=======
   ],
   "metadata": {
    "collapsed": false,
    "pycharm": {
     "name": "#%% md\n"
    }
   }
  },
  {
   "cell_type": "code",
   "execution_count": 20,
   "metadata": {
    "collapsed": true,
    "pycharm": {
     "name": "#%%\n"
    }
   },
>>>>>>> 188e962 (feat(Structure): update on Aug 3 than Jul 3)
   "outputs": [],
   "source": [
    "maze = [\n",
    "    [1, 1, 1, 1, 1, 1, 1, 1, 1, 1],\n",
    "    [1, 0, 0, 1, 0, 0, 0, 1, 0, 1],\n",
    "    [1, 0, 0, 1, 0, 0, 0, 1, 0, 1],\n",
    "    [1, 0, 0, 0, 0, 1, 1, 0, 0, 1],\n",
    "    [1, 0, 1, 1, 1, 0, 0, 0, 0, 1],\n",
    "    [1, 0, 0, 0, 1, 0, 0, 0, 0, 1],\n",
    "    [1, 0, 1, 0, 0, 0, 1, 0, 0, 1],\n",
    "    [1, 0, 1, 1, 1, 0, 1, 1, 0, 1],\n",
    "    [1, 1, 0, 0, 0, 0, 0, 0, 0, 1],\n",
    "    [1, 1, 1, 1, 1, 1, 1, 1, 1, 1]\n",
    "]\n",
    "\n",
    "dirs = [\n",
    "    lambda x, y: (x+1, y),\n",
    "    lambda x, y: (x-1, y),\n",
    "    lambda x, y: (x, y + 1),\n",
    "    lambda x, y: (x, y-1)\n",
    "]"
   ]
  },
  {
   "cell_type": "markdown",
   "metadata": {},
   "source": [
    "## Depth First Search(DFS) for Stack\n",
    " * back tracking 回溯法"
<<<<<<< HEAD
   ]
  },
  {
   "cell_type": "code",
   "execution_count": 2,
   "metadata": {
    "pycharm": {
     "name": "#%%\n"
    }
   },
   "outputs": [],
=======
   ],
   "metadata": {
    "collapsed": false,
    "pycharm": {
     "name": "#%% md\n"
    }
   }
  },
  {
   "cell_type": "code",
   "execution_count": 26,
   "outputs": [
    {
     "ename": "IndentationError",
     "evalue": "expected an indented block (1105700212.py, line 38)",
     "output_type": "error",
     "traceback": [
      "\u001B[0;36m  File \u001B[0;32m\"/tmp/ipykernel_13178/1105700212.py\"\u001B[0;36m, line \u001B[0;32m38\u001B[0m\n\u001B[0;31m    recur_maze_path()\u001B[0m\n\u001B[0m    ^\u001B[0m\n\u001B[0;31mIndentationError\u001B[0m\u001B[0;31m:\u001B[0m expected an indented block\n"
     ]
    }
   ],
>>>>>>> 188e962 (feat(Structure): update on Aug 3 than Jul 3)
   "source": [
    "def maze_path(x1, y1, x2, y2):\n",
    "    stack = []\n",
    "    stack.append((x1, y1))\n",
    "    while (len(stack) > 0):\n",
    "        curNode = stack[-1]  # current cursor is the last element in stack\n",
    "\n",
    "        if curNode[0] == x2 and curNode[1] == y2:  # reach the end\n",
    "            for p in stack:\n",
    "                print(p)\n",
    "                return stack\n",
    "\n",
    "        for dir in dirs:  # find for four directions\n",
    "            nextNode = dir(curNode[0], curNode[1])\n",
    "            if maze[nextNode[0]][nextNode[1]] == 0:  # if next node is available\n",
    "                stack.append(nextNode)\n",
    "                maze[nextNode[0]][nextNode[1]] == 2  # it is in the path\n",
    "                break\n",
    "        else:\n",
    "            maze[curNode[0]][curNode[1]] == 2  # it is in the path\n",
    "            stack.pop()\n",
    "\n",
    "    else:\n",
    "        print(\"No Route\")\n",
    "        return False\n",
    "\n",
    "\n",
<<<<<<< HEAD
    "def recur_dfs(x1, y1, x2, y2):\n",
    "\n"
   ]
  },
  {
   "cell_type": "code",
   "execution_count": null,
   "metadata": {
    "pycharm": {
     "is_executing": true,
     "name": "#%%\n"
    }
   },
   "outputs": [],
   "source": [
    "print(maze_path(1,1,8,8))"
   ]
  },
  {
   "cell_type": "markdown",
   "metadata": {
    "pycharm": {
     "name": "#%% md\n"
    }
   },
   "source": [
    "## Breadth First Search(BFS) or Width First Search(WFS) for Queue"
   ]
  },
  {
   "cell_type": "code",
   "execution_count": null,
   "metadata": {
    "pycharm": {
     "is_executing": true,
     "name": "#%%\n"
    }
   },
=======
    "\n",
    "def recur_maze_path(x1, y1, x2, y2):\n",
    "    curNode = (x1, y1)\n",
    "    nrow, ncol = len(maze) - 1, len(maze[0]) - 1\n",
    "\n",
    "\n",
    "    def dfs(curNode):\n",
    "        if maze[curNode[0]][curNode[1]] == 2:\n",
    "            return\n",
    "        for dir in dirs:\n",
    "            nx, ny = dir(curNode[0], curNode[1])\n",
    "            if 0<= nx < nrow and 0 <= ny < ncol and maze[nx][ny] == 0:\n",
    "                maze[nx][ny] == 2\n",
    "                dfs((nx, ny))"
   ],
   "metadata": {
    "collapsed": false,
    "pycharm": {
     "name": "#%%\n"
    }
   }
  },
  {
   "cell_type": "code",
   "execution_count": null,
   "outputs": [],
   "source": [
    "maze_path(1, 1, 8, 8)"
   ],
   "metadata": {
    "collapsed": false,
    "pycharm": {
     "name": "#%%\n",
     "is_executing": true
    }
   }
  },
  {
   "cell_type": "markdown",
   "source": [
    "## Breadth First Search(BFS) or Width First Search(WFS) for Queue"
   ],
   "metadata": {
    "collapsed": false,
    "pycharm": {
     "name": "#%% md\n"
    }
   }
  },
  {
   "cell_type": "code",
   "execution_count": 24,
>>>>>>> 188e962 (feat(Structure): update on Aug 3 than Jul 3)
   "outputs": [],
   "source": [
    "from collections import deque\n",
    "\n",
    "def print_r(path):\n",
    "    curNode = path[-1]\n",
    "\n",
    "    realpath = []\n",
    "\n",
    "    while curNode[2] != -1:\n",
    "        realpath.append(curNode[0:2])\n",
    "        curNode = path[curNode[2]]\n",
    "\n",
    "    realpath.append(curNode[0:2])\n",
    "    realpath.reverse()\n",
    "    for node in realpath:\n",
    "        print(node)\n",
    "\n",
    "def maze_path_queue(x1, y1, x2, y2):\n",
    "    queue = deque()\n",
    "    queue.append((x1, y1, -1))\n",
    "    path = []\n",
    "\n",
    "    while len(queue) > 0:\n",
    "        curNode = queue.popleft()\n",
    "        path.append(curNode)\n",
<<<<<<< HEAD
    "        print(path)\n",
    "        \n",
    "        if curNode[0] == x2 and curNode[1] == y2:\n",
    "            print_r(path)\n",
    "            return True\n",
=======
    "\n",
    "        # if curNode[0] == x2 and curNode[1] == y2:\n",
    "        #     print_r(path)\n",
    "        #     return True\n",
>>>>>>> 188e962 (feat(Structure): update on Aug 3 than Jul 3)
    "\n",
    "        for dir in dirs:\n",
    "            nextNode = dir(curNode[0], curNode[1])\n",
    "            if maze[nextNode[0]][nextNode[1]] == 0:\n",
    "                queue.append((nextNode[0], nextNode[1], len(path)-1))\n",
    "                maze[nextNode[0]][nextNode[1]] = 2\n",
    "\n",
    "    else:\n",
    "        print(path)\n",
    "        print(\"No Route\")\n",
<<<<<<< HEAD
    "        return False\n"
   ]
  },
  {
   "cell_type": "code",
   "execution_count": null,
   "metadata": {},
   "outputs": [],
   "source": [
    "print(maze_path_queue(1,1,8,8))"
   ]
  },
  {
   "cell_type": "code",
   "execution_count": null,
   "metadata": {},
   "outputs": [],
   "source": []
=======
    "        return False"
   ],
   "metadata": {
    "collapsed": false,
    "pycharm": {
     "name": "#%%\n"
    }
   }
  },
  {
   "cell_type": "code",
   "execution_count": 25,
   "outputs": [
    {
     "name": "stdout",
     "output_type": "stream",
     "text": [
      "[(1, 1, -1), (2, 1, 0), (1, 2, 0), (3, 1, 1), (1, 1, 1), (2, 2, 1), (4, 1, 3), (3, 2, 3), (5, 1, 6), (3, 3, 7), (6, 1, 8), (5, 2, 8), (3, 4, 9), (7, 1, 10), (5, 3, 11), (2, 4, 12), (6, 3, 14), (1, 4, 15), (2, 5, 15), (6, 4, 16), (1, 5, 17), (2, 6, 18), (6, 5, 19), (1, 6, 20), (7, 5, 22), (5, 5, 22), (8, 5, 24), (4, 5, 25), (5, 6, 25), (8, 6, 26), (8, 4, 26), (4, 6, 27), (5, 7, 28), (8, 7, 29), (8, 3, 30), (4, 7, 31), (6, 7, 32), (5, 8, 32), (8, 8, 33), (8, 2, 34), (3, 7, 35), (4, 8, 35), (6, 8, 36), (7, 8, 38), (3, 8, 40), (2, 8, 44), (1, 8, 45)]\n",
      "No Route\n"
     ]
    },
    {
     "data": {
      "text/plain": "False"
     },
     "execution_count": 25,
     "metadata": {},
     "output_type": "execute_result"
    }
   ],
   "source": [
    "maze_path_queue(1, 1, 8, 8)"
   ],
   "metadata": {
    "collapsed": false,
    "pycharm": {
     "name": "#%%\n"
    }
   }
  },
  {
   "cell_type": "code",
   "execution_count": 27,
   "outputs": [
    {
     "name": "stdout",
     "output_type": "stream",
     "text": [
      "[[1, 1, 1, 1, 1, 1, 1, 1, 1, 1], [1, 2, 2, 1, 2, 2, 2, 1, 2, 1], [1, 2, 2, 1, 2, 2, 2, 1, 2, 1], [1, 2, 2, 2, 2, 1, 1, 2, 2, 1], [1, 2, 1, 1, 1, 2, 2, 2, 2, 1], [1, 2, 2, 2, 1, 2, 2, 2, 2, 1], [1, 2, 1, 2, 2, 2, 1, 2, 2, 1], [1, 2, 1, 1, 1, 2, 1, 1, 2, 1], [1, 1, 2, 2, 2, 2, 2, 2, 2, 1], [1, 1, 1, 1, 1, 1, 1, 1, 1, 1]]\n"
     ]
    }
   ],
   "source": [
    "print(maze)"
   ],
   "metadata": {
    "collapsed": false,
    "pycharm": {
     "name": "#%%\n"
    }
   }
>>>>>>> 188e962 (feat(Structure): update on Aug 3 than Jul 3)
  }
 ],
 "metadata": {
  "kernelspec": {
   "display_name": "Python 3 (ipykernel)",
   "language": "python",
   "name": "python3"
  },
  "language_info": {
   "codemirror_mode": {
    "name": "ipython",
    "version": 3
   },
   "file_extension": ".py",
   "mimetype": "text/x-python",
   "name": "python",
   "nbconvert_exporter": "python",
   "pygments_lexer": "ipython3",
   "version": "3.7.11"
  }
 },
 "nbformat": 4,
 "nbformat_minor": 1
}