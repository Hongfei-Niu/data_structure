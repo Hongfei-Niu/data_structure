{
 "cells": [
  {
   "cell_type": "markdown",
   "metadata": {},
   "source": [
    "# Maze Problem"
   ]
  },
  {
   "cell_type": "code",
   "execution_count": 7,
   "metadata": {},
   "outputs": [],
   "source": [
    "maze = [\n",
    "    [1, 1, 1, 1, 1, 1, 1, 1, 1, 1],\n",
    "    [1, 0, 0, 1, 0, 0, 0, 1, 0, 1],\n",
    "    [1, 0, 0, 1, 0, 0, 0, 1, 0, 1],\n",
    "    [1, 0, 0, 0, 0, 1, 1, 0, 0, 1],\n",
    "    [1, 0, 1, 1, 1, 0, 0, 0, 0, 1],\n",
    "    [1, 0, 0, 0, 1, 0, 0, 0, 0, 1],\n",
    "    [1, 0, 1, 0, 0, 0, 1, 0, 0, 1],\n",
    "    [1, 0, 1, 1, 1, 0, 1, 1, 0, 1],\n",
    "    [1, 1, 0, 0, 0, 0, 0, 0, 0, 1],\n",
    "    [1, 1, 1, 1, 1, 1, 1, 1, 1, 1]\n",
    "]\n",
    "\n",
    "dirs = [\n",
    "    lambda x, y: (x+1, y),\n",
    "    lambda x, y: (x-1, y),\n",
    "    lambda x, y: (x, y + 1),\n",
    "    lambda x, y: (x, y-1)\n",
    "]"
   ]
  },
  {
   "cell_type": "markdown",
   "metadata": {},
   "source": [
    "## Depth First Search(DFS) for Stack\n",
    " * back tracking 回溯法"
   ]
  },
  {
   "cell_type": "code",
   "execution_count": 2,
   "metadata": {
    "pycharm": {
     "name": "#%%\n"
    }
   },
   "outputs": [],
   "source": [
    "def maze_path(x1, y1, x2, y2):\n",
    "    stack = []\n",
    "    stack.append((x1, y1))\n",
    "    while (len(stack) > 0):\n",
    "        curNode = stack[-1]  # current cursor is the last element in stack\n",
    "\n",
    "        if curNode[0] == x2 and curNode[1] == y2:  # reach the end\n",
    "            for p in stack:\n",
    "                print(p)\n",
    "                return stack\n",
    "\n",
    "        for dir in dirs:  # find for four directions\n",
    "            nextNode = dir(curNode[0], curNode[1])\n",
    "            if maze[nextNode[0]][nextNode[1]] == 0:  # if next node is available\n",
    "                stack.append(nextNode)\n",
    "                maze[nextNode[0]][nextNode[1]] == 2  # it is in the path\n",
    "                break\n",
    "\n",
    "        else:\n",
    "            maze[nextNode[0]][nextNode[1]] == 2  # it is in the path\n",
    "            stack.pop()\n",
    "\n",
    "    else:\n",
    "        print(\"No Route\")\n",
    "        return False\n",
    "\n",
    "\n",
    "def recur_dfs(x1, y1, x2, y2):\n",
    "\n"
   ]
  },
  {
   "cell_type": "code",
   "execution_count": null,
   "metadata": {
    "pycharm": {
     "is_executing": true,
     "name": "#%%\n"
    }
   },
   "outputs": [],
   "source": [
    "print(maze_path(1,1,8,8))"
   ]
  },
  {
   "cell_type": "markdown",
   "metadata": {
    "pycharm": {
     "name": "#%% md\n"
    }
   },
   "source": [
    "## Breadth First Search(BFS) or Width First Search(WFS) for Queue"
   ]
  },
  {
   "cell_type": "code",
   "execution_count": null,
   "metadata": {
    "pycharm": {
     "is_executing": true,
     "name": "#%%\n"
    }
   },
   "outputs": [],
   "source": [
    "from collections import deque\n",
    "\n",
    "def print_r(path):\n",
    "    curNode = path[-1]\n",
    "\n",
    "    realpath = []\n",
    "\n",
    "    while curNode[2] != -1:\n",
    "        realpath.append(curNode[0:2])\n",
    "        curNode = path[curNode[2]]\n",
    "\n",
    "    realpath.append(curNode[0:2])\n",
    "    realpath.reverse()\n",
    "    for node in realpath:\n",
    "        print(node)\n",
    "\n",
    "def maze_path_queue(x1, y1, x2, y2):\n",
    "    queue = deque()\n",
    "    queue.append((x1, y1, -1))\n",
    "    path = []\n",
    "\n",
    "    while len(queue) > 0:\n",
    "        curNode = queue.popleft()\n",
    "        path.append(curNode)\n",
    "        print(path)\n",
    "        \n",
    "        if curNode[0] == x2 and curNode[1] == y2:\n",
    "            print_r(path)\n",
    "            return True\n",
    "\n",
    "        for dir in dirs:\n",
    "            nextNode = dir(curNode[0], curNode[1])\n",
    "            if maze[nextNode[0]][nextNode[1]] == 0:\n",
    "                queue.append((nextNode[0], nextNode[1], len(path)-1))\n",
    "                maze[nextNode[0]][nextNode[1]] = 2\n",
    "\n",
    "    else:\n",
    "        print(\"No Route\")\n",
    "        return False\n"
   ]
  },
  {
   "cell_type": "code",
   "execution_count": null,
   "metadata": {},
   "outputs": [],
   "source": [
    "print(maze_path_queue(1,1,8,8))"
   ]
  },
  {
   "cell_type": "code",
   "execution_count": null,
   "metadata": {},
   "outputs": [],
   "source": []
  }
 ],
 "metadata": {
  "kernelspec": {
   "display_name": "Python 3 (ipykernel)",
   "language": "python",
   "name": "python3"
  },
  "language_info": {
   "codemirror_mode": {
    "name": "ipython",
    "version": 3
   },
   "file_extension": ".py",
   "mimetype": "text/x-python",
   "name": "python",
   "nbconvert_exporter": "python",
   "pygments_lexer": "ipython3",
   "version": "3.7.11"
  }
 },
 "nbformat": 4,
 "nbformat_minor": 1
}