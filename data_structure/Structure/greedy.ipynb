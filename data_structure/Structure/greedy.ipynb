{
 "cells": [
  {
   "cell_type": "markdown",
   "source": [
    "# Greedy Thought\n",
    "\n",
    "optimization problem to find the best plan for a problem"
   ],
   "metadata": {
    "collapsed": false
   }
  },
  {
   "cell_type": "markdown",
   "source": [
    "## Get the Changes"
   ],
   "metadata": {
    "collapsed": false
   }
  },
  {
   "cell_type": "code",
   "execution_count": 51,
   "metadata": {
    "collapsed": true
   },
   "outputs": [
    {
     "name": "stdout",
     "output_type": "stream",
     "text": [
      "([3, 1, 1, 1, 1], 0)\n"
     ]
    }
   ],
   "source": [
    "\n",
    "t = [100, 50, 20, 5, 1]\n",
    "\n",
    "def change(t, n):\n",
    "    m = [0 for _ in range(len(t))]\n",
    "    for i, money in enumerate(t):\n",
    "        m[i] = n//money\n",
    "        n = n % money\n",
    "\n",
    "    return m, n\n",
    "\n",
    "print(change(t, 376))"
   ]
  },
  {
   "cell_type": "markdown",
   "source": [
    "## Bag Problem\n",
    "A thief find n items in store, the i(th) item worths $vi, weights wi kg.\n",
    "He needs to take as much money as he can with a bag which can hold W kg.\n",
    "\n",
    "* 0-1 bag: for a item, he can only take or leave\n",
    "* frag bag: he can take 1/2 item (like gold sand)"
   ],
   "metadata": {
    "collapsed": false
   }
  },
  {
   "cell_type": "code",
   "execution_count": 52,
   "outputs": [
    {
     "name": "stdout",
     "output_type": "stream",
     "text": [
      "(200.0, [1, 1, 0.3333333333333333])\n"
     ]
    }
   ],
   "source": [
    "goods = [(60, 10), (100, 20), (120, 30)]  # (value, weight)\n",
    "goods.sort(key = lambda x: x[0]/x[1], reverse=True)\n",
    "\n",
    "def fractional_backpack(goods, w):\n",
    "    m = [0 for _ in range(len(goods))]\n",
    "    total_v = 0\n",
    "    for i, (prize, weight) in enumerate(goods):\n",
    "        if w >= weight:\n",
    "            m[i] = 1\n",
    "            total_v += prize\n",
    "            w -= weight\n",
    "        else:\n",
    "            m[i] = w/weight\n",
    "            total_v += m[i] * prize\n",
    "            w = 0\n",
    "            break\n",
    "    return total_v, m\n",
    "\n",
    "print(fractional_backpack(goods, 40))"
   ],
   "metadata": {
    "collapsed": false,
    "pycharm": {
     "name": "#%%\n"
    }
   }
  },
  {
   "cell_type": "markdown",
   "source": [
    "## Concatenate the numbers to get the biggest one"
   ],
   "metadata": {
    "collapsed": false
   }
  },
  {
   "cell_type": "markdown",
   "source": [
    "N non-negative integers, concatenate them like string to get a new integer. Find the biggest one."
   ],
   "metadata": {
    "collapsed": false
   }
  },
  {
   "cell_type": "code",
   "execution_count": 53,
   "outputs": [
    {
     "name": "stdout",
     "output_type": "stream",
     "text": [
      "94716321286128\n"
     ]
    }
   ],
   "source": [
    "nums = [32, 94, 128, 1286, 6, 71]\n",
    "\n",
    "from functools import cmp_to_key\n",
    "\n",
    "def xy_cmp(x, y):\n",
    "    if x+y < y+x:\n",
    "        return 1\n",
    "    else:\n",
    "        return -1\n",
    "\n",
    "\n",
    "def number_join(li):\n",
    "    li = list(map(str, li))\n",
    "    li.sort(key=cmp_to_key(xy_cmp))\n",
    "    return \"\".join(li)\n",
    "\n",
    "print(number_join(nums))"
   ],
   "metadata": {
    "collapsed": false,
    "pycharm": {
     "name": "#%%\n"
    }
   }
  },
  {
   "cell_type": "markdown",
   "source": [
    "## Choose the fields"
   ],
   "metadata": {
    "collapsed": false
   }
  },
  {
   "cell_type": "markdown",
   "source": [
    "N appointments for a field for a certain day, each appointment has a start time si and end time fi [si, fi).\n",
    "How to arrange the appointments to make effective for the field."
   ],
   "metadata": {
    "collapsed": false
   }
  },
  {
   "cell_type": "code",
   "execution_count": 54,
   "outputs": [
    {
     "name": "stdout",
     "output_type": "stream",
     "text": [
      "[(1, 4), (5, 7), (8, 11), (12, 16)]\n"
     ]
    }
   ],
   "source": [
    "activities = [(1, 4), (3, 5), (0, 6), (5, 7), (3, 9), (5, 9), (6, 10), (8, 11), (8, 12), (2, 14), (12, 16)]\n",
    "\n",
    "activities.sort(key=lambda x:x[1])\n",
    "\n",
    "def activity_selection(a):\n",
    "    res = [a[0]]\n",
    "    for i in range(1, len(a)):\n",
    "        if a[i][0] >= res[-1][1]:  # start time of act i >= end time of last chosen act\n",
    "            res.append(a[i])\n",
    "\n",
    "    return res\n",
    "\n",
    "print(activity_selection(activities))"
   ],
   "metadata": {
    "collapsed": false,
    "pycharm": {
     "name": "#%%\n"
    }
   }
  }
 ],
 "metadata": {
  "kernelspec": {
   "display_name": "Python 3",
   "language": "python",
   "name": "python3"
  },
  "language_info": {
   "codemirror_mode": {
    "name": "ipython",
    "version": 2
   },
   "file_extension": ".py",
   "mimetype": "text/x-python",
   "name": "python",
   "nbconvert_exporter": "python",
   "pygments_lexer": "ipython2",
   "version": "2.7.6"
  }
 },
 "nbformat": 4,
 "nbformat_minor": 0
}