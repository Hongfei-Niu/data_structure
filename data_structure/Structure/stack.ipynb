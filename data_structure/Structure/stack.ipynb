{
 "cells": [
  {
   "cell_type": "markdown",
   "metadata": {
    "collapsed": false,
    "pycharm": {
     "name": "#%% md\n"
    }
   },
   "source": [
    "# Stack\n",
    "\n",
    "***Stack is a set of data, following last-in first-out***\n",
    "\n",
    "Main Operations:\n",
    "* push\n",
    "* pop\n",
    "* gettop (investigate the top one without change)"
   ]
  },
  {
   "cell_type": "code",
   "execution_count": 1,
   "metadata": {
    "collapsed": true,
    "pycharm": {
     "name": "#%%\n"
    }
   },
   "outputs": [
    {
     "name": "stdout",
     "output_type": "stream",
     "text": [
      "3\n"
     ]
    }
   ],
   "source": [
    "class Stack:\n",
    "    def __init__(self):\n",
    "        self.stack = []\n",
    "\n",
    "    def push(self, element):\n",
    "        self.stack.append(element)\n",
    "\n",
    "    def pop(self):\n",
    "        return self.stack.pop()\n",
    "\n",
    "    def get_top(self):\n",
    "        if len(self.stack) > 0:\n",
    "            return stack[-1]\n",
    "\n",
    "        else:\n",
    "            return None\n",
    "\n",
    "stack = Stack()\n",
    "stack.push(1)\n",
    "stack.push(2)\n",
    "stack.push(3)\n",
    "print(stack.pop())"
   ]
  },
  {
   "cell_type": "markdown",
   "metadata": {
    "collapsed": false,
    "pycharm": {
     "name": "#%% md\n"
    }
   },
   "source": [
    "## Parentheses Matching Problem\n",
    "\n",
    "Given a string which contains different types of parentheses. Find if the parentheses in the string match?\n",
    "\n",
    "eg:\n",
    "\n",
    "* ()()[]{} --> True\n",
    "* (){] --> False"
   ]
  },
  {
   "cell_type": "code",
   "execution_count": 2,
   "metadata": {
    "collapsed": false,
    "pycharm": {
     "name": "#%%\n"
    }
   },
   "outputs": [],
   "source": [
    "parentheses_dict = {\n",
    "    \"(\": \")\",\n",
    "    \"{\": \"}\",\n",
    "    \"[\": \"]\"\n",
    "}\n",
    "\n",
    "class Solution:\n",
    "    def ifmatch(self, parentheses):\n",
    "        ret_stack = []\n",
    "        for par in parentheses:\n",
    "            if par in parentheses_dict:\n",
    "                ret_stack.append(parentheses_dict[par])\n",
    "            elif ret_stack[-1] == par:\n",
    "                ret_stack.pop()\n",
    "            else:\n",
    "                return False\n",
    "        if ret_stack:\n",
    "            return False\n",
    "\n",
    "        return True"
   ]
  }
 ],
 "metadata": {
  "kernelspec": {
   "display_name": "Python 3",
   "language": "python",
   "name": "python3"
  },
  "language_info": {
   "codemirror_mode": {
    "name": "ipython",
    "version": 2
   },
   "file_extension": ".py",
   "mimetype": "text/x-python",
   "name": "python",
   "nbconvert_exporter": "python",
   "pygments_lexer": "ipython2",
   "version": "3.9.2"
  },
  "vscode": {
   "interpreter": {
    "hash": "916dbcbb3f70747c44a77c7bcd40155683ae19c65e1c03b4aa3499c5328201f1"
   }
  }
 },
 "nbformat": 4,
 "nbformat_minor": 0
}
