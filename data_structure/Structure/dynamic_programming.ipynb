{
 "cells": [
  {
   "cell_type": "markdown",
   "source": [
    "# Dynamic programming"
   ],
   "metadata": {
    "collapsed": false
   }
  },
  {
   "cell_type": "markdown",
   "source": [
    "## Fibnacci series"
   ],
   "metadata": {
    "collapsed": false
   }
  },
  {
   "cell_type": "code",
   "execution_count": 17,
   "metadata": {
    "collapsed": true
   },
   "outputs": [
    {
     "name": "stdout",
     "output_type": "stream",
     "text": [
      "354224848179261915075\n"
     ]
    }
   ],
   "source": [
    "def fibnacci(n):\n",
    "    if n ==1 or n==2:\n",
    "        return 1\n",
    "    else:\n",
    "        return fibnacci(n-1) + fibnacci(n-2)\n",
    "\n",
    "# DP = recursion + repetitive sub-problem\n",
    "def fibnacci_no_recursion(n):\n",
    "    f = [0, 1, 1]\n",
    "    if n > 2:\n",
    "        for i in range(n - 2):\n",
    "            num = f[-1] + f[-2]\n",
    "            f.append(num)\n",
    "    return f[n]\n",
    "\n",
    "print(fibnacci_no_recursion(100))"
   ]
  },
  {
   "cell_type": "markdown",
   "source": [
    "## Cut the Stick\n"
   ],
   "metadata": {
    "collapsed": false
   }
  },
  {
   "cell_type": "code",
   "execution_count": 18,
   "outputs": [
    {
     "name": "stdout",
     "output_type": "stream",
     "text": [
      "c1 running time: 2.384185791015625e-07 secs.\n",
      "<function cut_rod_recurision_1 at 0x7f7cf57c2940>\n",
      "c2 running time: 0.0049724578857421875 secs.\n",
      "42\n"
     ]
    }
   ],
   "source": [
    "import time\n",
    "\n",
    "def cal_time(func):\n",
    "    def wrapper(*args, **kwargs):\n",
    "        t1 = time.time()\n",
    "        result = func(*args, **kwargs)\n",
    "        t2 = time.time()\n",
    "        print(\"%s running time: %s secs.\" % (func.__name__, t2-t1))\n",
    "        return result\n",
    "    return wrapper\n",
    "\n",
    "p = [0, 1, 5, 8, 9, 10, 17, 17, 20, 21, 23, 24, 26, 27, 27, 28, 30, 33, 36, 39, 40]\n",
    "\n",
    "\n",
    "def cut_rod_recurision_1(p, n):\n",
    "    if n==0:\n",
    "        return 0\n",
    "    else:\n",
    "        res = p[n]\n",
    "        for i in range(1, n):\n",
    "            res = max(res, cut_rod_recurision_1(p, i) + cut_rod_recurision_1(p, n-i))\n",
    "        return res\n",
    "\n",
    "@cal_time\n",
    "def c1(p, n):\n",
    "    return cut_rod_recurision_1\n",
    "\n",
    "def cut_rod_recurision_2(p, n):\n",
    "    if n==0:\n",
    "        return 0\n",
    "    else:\n",
    "        res = 0\n",
    "        for i in range(1, n+1):\n",
    "            res = max(res, p[i] + cut_rod_recurision_2(p, n-i))\n",
    "        return res\n",
    "\n",
    "@cal_time\n",
    "def c2(p, n):\n",
    "    return cut_rod_recurision_2(p, n)\n",
    "\n",
    "print(c1(p, 15))\n",
    "print(c2(p, 15))\n",
    "\n",
    "\n",
    "## Time Complexity = O(2^n)"
   ],
   "metadata": {
    "collapsed": false,
    "pycharm": {
     "name": "#%%\n"
    }
   }
  },
  {
   "cell_type": "code",
   "execution_count": 19,
   "outputs": [
    {
     "name": "stdout",
     "output_type": "stream",
     "text": [
      "cut_rod_dp running time: 1.33514404296875e-05 secs.\n",
      "42\n"
     ]
    }
   ],
   "source": [
    "@cal_time\n",
    "def cut_rod_dp(p, n):\n",
    "    r = [0]\n",
    "    for i in range(1, n+1):\n",
    "        res = 0\n",
    "        for j in range(1, i + 1):\n",
    "            res = max(res, p[j] + r[i-j])\n",
    "        r.append(res)\n",
    "\n",
    "    return r[n]\n",
    "\n",
    "print(cut_rod_dp(p, 15))\n",
    "\n",
    "## Time Complexity = O(n^2)"
   ],
   "metadata": {
    "collapsed": false,
    "pycharm": {
     "name": "#%%\n"
    }
   }
  },
  {
   "cell_type": "markdown",
   "source": [
    "save the best case"
   ],
   "metadata": {
    "collapsed": false
   }
  },
  {
   "cell_type": "code",
   "execution_count": 20,
   "outputs": [
    {
     "name": "stdout",
     "output_type": "stream",
     "text": [
      "cut_rod_dp running time: 3.552436828613281e-05 secs.\n",
      "56\n",
      "[2, 6, 6, 6]\n"
     ]
    }
   ],
   "source": [
    "def cut_rod_extend(p, n):\n",
    "    r = [0]\n",
    "    s = [0]\n",
    "    for i in range(1, n+1):\n",
    "        res_r = 0\n",
    "        res_s = 0\n",
    "        for j in range(1, i + 1):\n",
    "            if p[j] + r[i-j]> res_r:\n",
    "                res_r = p[j] + r[i-j]\n",
    "                res_s = j\n",
    "        r.append(res_r)\n",
    "        s.append(res_s)\n",
    "    return r[n], s\n",
    "\n",
    "def cut_rod_solution(p, n):\n",
    "    r, s = cut_rod_extend(p, n)\n",
    "    ans = []\n",
    "    while n > 0:\n",
    "        ans.append(s[n])\n",
    "        n -= s[n]\n",
    "    return ans\n",
    "\n",
    "print(cut_rod_dp(p, 20))\n",
    "print(cut_rod_solution(p, 20))"
   ],
   "metadata": {
    "collapsed": false,
    "pycharm": {
     "name": "#%%\n"
    }
   }
  },
  {
   "cell_type": "markdown",
   "source": [
    "## Longest common string"
   ],
   "metadata": {
    "collapsed": false
   }
  },
  {
   "cell_type": "code",
   "execution_count": 21,
   "outputs": [
    {
     "name": "stdout",
     "output_type": "stream",
     "text": [
      "123456\n"
     ]
    }
   ],
   "source": [
    "def lcs_length(x, y):\n",
    "    m, n = len(x), len(y)\n",
    "\n",
    "    c = [[0 for _ in range(n+1)] for _ in range(m+1)]\n",
    "\n",
    "    for i in range(1, m+1):\n",
    "        for j in range(1, n + 1):\n",
    "            if x[i-1] == y[j-1]:\n",
    "                c[i][j] = c[i-1][j-1] + 1\n",
    "            else:\n",
    "                c[i][j] = max(c[i-1][j], c[i][j-1])\n",
    "    return c[m][n]\n",
    "\n",
    "\n",
    "def lcs(x, y):\n",
    "    m, n = len(x), len(y)\n",
    "    c = [[0 for _ in range(n+1)] for _ in range(m+1)]\n",
    "    b = [[0 for _ in range(n+1)] for _ in range(m+1)]\n",
    "\n",
    "    for i in range(1, m+1):\n",
    "        for j in range(1, n+1):\n",
    "            if x[i-1] == y[j-1]:\n",
    "                c[i][j] = c[i-1][j-1] + 1\n",
    "                b[i][j] = 1\n",
    "            elif c[i-1][j] > c[i][j-1]:\n",
    "                c[i][j] = c[i-1][j]\n",
    "                b[i][j] = 2\n",
    "            else:\n",
    "                c[i][j] = max(c[i-1][j], c[i][j-1])\n",
    "                b[i][j] = 3\n",
    "\n",
    "    return c[m][n], b\n",
    "\n",
    "def lcs_trackback(x, y):\n",
    "    c, b = lcs(x, y)\n",
    "    i = len(x)\n",
    "    j = len(y)\n",
    "\n",
    "    res = []\n",
    "\n",
    "    while i > 0 and j > 0:\n",
    "        if b[i][j] ==1:\n",
    "            res.append(x[i-1])\n",
    "            i -=1\n",
    "            j -= 1\n",
    "\n",
    "        elif b[i][j] == 2:\n",
    "            i -= 1\n",
    "        else:\n",
    "            j -=1\n",
    "\n",
    "    return \"\".join(reversed(res))\n",
    "\n",
    "print(lcs_trackback(\"1A2C3D4B56\",\"B1D23A456A\"))"
   ],
   "metadata": {
    "collapsed": false,
    "pycharm": {
     "name": "#%%\n"
    }
   }
  }
 ],
 "metadata": {
  "kernelspec": {
   "display_name": "Python 3",
   "language": "python",
   "name": "python3"
  },
  "language_info": {
   "codemirror_mode": {
    "name": "ipython",
    "version": 2
   },
   "file_extension": ".py",
   "mimetype": "text/x-python",
   "name": "python",
   "nbconvert_exporter": "python",
   "pygments_lexer": "ipython2",
   "version": "2.7.6"
  }
 },
 "nbformat": 4,
 "nbformat_minor": 0
}